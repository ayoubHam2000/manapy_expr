{
 "cells": [
  {
   "cell_type": "code",
   "execution_count": 5,
   "metadata": {},
   "outputs": [
    {
     "name": "stdout",
     "output_type": "stream",
     "text": [
      "                                                                                            OP[Add]                                                                                             \n",
      "                                                ╭──────────────────────────────────────────────┴──────────────────────────────────────────────╮                                                 \n",
      "                                            OP[Add]                                                                                          OP[Dx]                                             \n",
      "                        ╭──────────────────────┴──────────────────────╮                                                 ╭──────────────────────┴──────────────────────╮                         \n",
      "                    OP[Add]                                         OP[Grad]                                          V[a]                                                                      \n",
      "            ╭──────────┴──────────╮                         ╭──────────┴──────────╮                         ╭──────────┴──────────╮                                                             \n",
      "        OP[Add]                 OP2[Dy2]                  V[a]                                                                                                                                  \n",
      "      ╭────┴────╮             ╭────┴────╮             ╭────┴────╮                                                                                                                               \n",
      "OP[Laplace]   OP2[Dx2]      V[b]                                                                                                                                                                \n",
      "   ╭─┴─╮       ╭─┴─╮       ╭─┴─╮                                                                                                                                                                \n",
      " V[b]        V[b]                                                                                                                                                                               \n"
     ]
    },
    {
     "data": {
      "text/plain": [
       "'Laplace(b) + Dx2(b) + Dy2(b) + Grad(a) + Dx1(a)'"
      ]
     },
     "execution_count": 5,
     "metadata": {},
     "output_type": "execute_result"
    }
   ],
   "source": [
    "import PdeExpr\n",
    "from importlib import reload\n",
    "reload(PdeExpr)\n",
    "from PdeExpr import Symbol, dx, dy, dz, dx2, dy2, dz2, laplace, grad\n",
    "#Symbol = PdeExpr.Symbol\n",
    "\n",
    "a = Symbol(\"a\")\n",
    "b = Symbol(\"b\")\n",
    "c = Symbol(\"c\")\n",
    "\n",
    "expr = dz2(b) + 2 * dx(a) + dy(a) + dz(a) + 2 * (dx2(b) + dy2(b))\n",
    "simExpr = expr.reduce()\n",
    "#expr.print()\n",
    "simExpr.print()\n",
    "simExpr.exec()\n"
   ]
  }
 ],
 "metadata": {
  "kernelspec": {
   "display_name": "stage",
   "language": "python",
   "name": "python3"
  },
  "language_info": {
   "codemirror_mode": {
    "name": "ipython",
    "version": 3
   },
   "file_extension": ".py",
   "mimetype": "text/x-python",
   "name": "python",
   "nbconvert_exporter": "python",
   "pygments_lexer": "ipython3",
   "version": "3.8.18"
  }
 },
 "nbformat": 4,
 "nbformat_minor": 2
}
