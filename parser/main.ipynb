{
 "cells": [
  {
   "cell_type": "code",
   "execution_count": 11,
   "metadata": {},
   "outputs": [
    {
     "name": "stdout",
     "output_type": "stream",
     "text": [
      "                    OP[Add]                     \n",
      "            ╭──────────┴──────────╮             \n",
      "        OP[Add]                 OP[Mul]         \n",
      "      ╭────┴────╮             ╭────┴────╮       \n",
      "    V[a]        V[b]        C[2]      OP[Grad]  \n",
      "   ╭─┴─╮       ╭─┴─╮       ╭─┴─╮       ╭─┴─╮    \n",
      "                                     V[a]       \n"
     ]
    }
   ],
   "source": [
    "import Symbol\n",
    "from importlib import reload\n",
    "reload(Symbol)\n",
    "from Symbol import Symbol, dx, dy, dz, dx2, dy2, dz2, laplace, grad\n",
    "#Symbol = PdeExpr.Symbol\n",
    "\n",
    "a, b, c = Symbol.symbols(\"a b c\")\n",
    "a = Symbol(\"a\")\n",
    "expr = a + b + 2 * grad(Symbol(\"a\"))\n",
    "expr.print()"
   ]
  },
  {
   "cell_type": "code",
   "execution_count": 6,
   "metadata": {},
   "outputs": [
    {
     "ename": "RuntimeError",
     "evalue": "can't do multiplication between variables or operation of variable",
     "output_type": "error",
     "traceback": [
      "\u001b[0;31m---------------------------------------------------------------------------\u001b[0m",
      "\u001b[0;31mRuntimeError\u001b[0m                              Traceback (most recent call last)",
      "Cell \u001b[0;32mIn[6], line 1\u001b[0m\n\u001b[0;32m----> 1\u001b[0m expr \u001b[38;5;241m=\u001b[39m \u001b[43mdx\u001b[49m\u001b[43m(\u001b[49m\u001b[43ma\u001b[49m\u001b[43m)\u001b[49m\u001b[43m \u001b[49m\u001b[38;5;241;43m*\u001b[39;49m\u001b[43m \u001b[49m\u001b[43ma\u001b[49m\n\u001b[1;32m      3\u001b[0m \u001b[38;5;66;03m#simExpr = expr.reduce(dim = 2)\u001b[39;00m\n\u001b[1;32m      4\u001b[0m expr\u001b[38;5;241m.\u001b[39mprint()\n",
      "File \u001b[0;32m~/Desktop/work/stage/manapy_generator/parser/Symbol.py:47\u001b[0m, in \u001b[0;36mSymbol.__mul__\u001b[0;34m(self, x)\u001b[0m\n\u001b[1;32m     45\u001b[0m \u001b[38;5;28;01mif\u001b[39;00m \u001b[38;5;129;01mnot\u001b[39;00m \u001b[38;5;28misinstance\u001b[39m(x, Symbol):\n\u001b[1;32m     46\u001b[0m   x \u001b[38;5;241m=\u001b[39m Symbol(x)\n\u001b[0;32m---> 47\u001b[0m \u001b[38;5;28;01mreturn\u001b[39;00m Symbol(\u001b[38;5;28;43mself\u001b[39;49m\u001b[38;5;241;43m.\u001b[39;49m\u001b[43mnode\u001b[49m\u001b[43m \u001b[49m\u001b[38;5;241;43m*\u001b[39;49m\u001b[43m \u001b[49m\u001b[43mx\u001b[49m\u001b[38;5;241;43m.\u001b[39;49m\u001b[43mnode\u001b[49m)\n",
      "File \u001b[0;32m~/Desktop/work/stage/manapy_generator/parser/Node.py:172\u001b[0m, in \u001b[0;36mNode.__mul__\u001b[0;34m(self, x)\u001b[0m\n\u001b[1;32m    168\u001b[0m \u001b[38;5;66;03m#####\u001b[39;00m\n\u001b[1;32m    169\u001b[0m \u001b[38;5;28;01mif\u001b[39;00m \u001b[38;5;28misinstance\u001b[39m(\u001b[38;5;28mself\u001b[39m\u001b[38;5;241m.\u001b[39mtoken, Operation) \u001b[38;5;129;01mand\u001b[39;00m \u001b[38;5;28misinstance\u001b[39m(x\u001b[38;5;241m.\u001b[39mtoken, Variable) \u001b[38;5;129;01mor\u001b[39;00m \\\n\u001b[1;32m    170\u001b[0m   \u001b[38;5;28misinstance\u001b[39m(\u001b[38;5;28mself\u001b[39m\u001b[38;5;241m.\u001b[39mtoken, Variable) \u001b[38;5;129;01mand\u001b[39;00m \u001b[38;5;28misinstance\u001b[39m(x\u001b[38;5;241m.\u001b[39mtoken, Operation) \u001b[38;5;129;01mor\u001b[39;00m \\\n\u001b[1;32m    171\u001b[0m   \u001b[38;5;28misinstance\u001b[39m(\u001b[38;5;28mself\u001b[39m\u001b[38;5;241m.\u001b[39mtoken, Variable) \u001b[38;5;129;01mand\u001b[39;00m \u001b[38;5;28misinstance\u001b[39m(x\u001b[38;5;241m.\u001b[39mtoken, Variable):\n\u001b[0;32m--> 172\u001b[0m   \u001b[38;5;28;01mraise\u001b[39;00m \u001b[38;5;167;01mRuntimeError\u001b[39;00m(\u001b[38;5;124m\"\u001b[39m\u001b[38;5;124mcan\u001b[39m\u001b[38;5;124m'\u001b[39m\u001b[38;5;124mt do multiplication between variables or operation of variable\u001b[39m\u001b[38;5;124m\"\u001b[39m)\n\u001b[1;32m    174\u001b[0m res \u001b[38;5;241m=\u001b[39m Node(Operation(Operation\u001b[38;5;241m.\u001b[39mMul))\n\u001b[1;32m    175\u001b[0m res\u001b[38;5;241m.\u001b[39mleft \u001b[38;5;241m=\u001b[39m \u001b[38;5;28mself\u001b[39m\n",
      "\u001b[0;31mRuntimeError\u001b[0m: can't do multiplication between variables or operation of variable"
     ]
    }
   ],
   "source": [
    "\n",
    "\n",
    "expr = dx(a) * a\n",
    "\n",
    "#simExpr = expr.reduce(dim = 2)\n",
    "expr.print()\n",
    "#simExpr.print()\n",
    "#simExpr.exec()\n"
   ]
  },
  {
   "cell_type": "code",
   "execution_count": 6,
   "metadata": {},
   "outputs": [
    {
     "name": "stdout",
     "output_type": "stream",
     "text": [
      "                    OP[Add]                     \n",
      "            ╭──────────┴──────────╮             \n",
      "        OP[Add]                 OP[Grad]        \n",
      "      ╭────┴────╮             ╭────┴────╮       \n",
      "OP[Laplace]   OP[Grad]      V[b]                \n",
      "   ╭─┴─╮       ╭─┴─╮       ╭─┴─╮                \n",
      " V[a]        V[a]                               \n"
     ]
    },
    {
     "data": {
      "text/plain": [
       "order : 2\n",
       "grad : True\n",
       "laplace : True\n",
       "variables : [b, a]\n",
       "gradVar : [b, a]\n",
       "laplaceVar : [a]"
      ]
     },
     "execution_count": 6,
     "metadata": {},
     "output_type": "execute_result"
    }
   ],
   "source": [
    "from Equation import Equation\n",
    "\n",
    "\n",
    "expr =  laplace(a) + grad(a) + grad(b)\n",
    "eq = Equation(expr, dim = 1)\n",
    "eq.expr.print()\n",
    "eq.info"
   ]
  }
 ],
 "metadata": {
  "kernelspec": {
   "display_name": "stage",
   "language": "python",
   "name": "python3"
  },
  "language_info": {
   "codemirror_mode": {
    "name": "ipython",
    "version": 3
   },
   "file_extension": ".py",
   "mimetype": "text/x-python",
   "name": "python",
   "nbconvert_exporter": "python",
   "pygments_lexer": "ipython3",
   "version": "3.8.18"
  }
 },
 "nbformat": 4,
 "nbformat_minor": 2
}
