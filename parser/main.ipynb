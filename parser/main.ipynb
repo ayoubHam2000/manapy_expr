{
 "cells": [
  {
   "cell_type": "code",
   "execution_count": 14,
   "metadata": {},
   "outputs": [],
   "source": [
    "from Symbol import Symbol, dx, dy, dz, dt, dx2, dy2, dz2, laplace, grad, divergence\n",
    "\n",
    "# creating the variables and constants\n",
    "a, b, c, d = Symbol.symbols(\"a b c d\", sb_type = Symbol.Variable)\n",
    "K, G, L, Q , Alpha, Beta = Symbol.symbols(\"K G L Q alpha beta\", sb_type = Symbol.Constant)"
   ]
  },
  {
   "cell_type": "code",
   "execution_count": 5,
   "metadata": {},
   "outputs": [
    {
     "name": "stdout",
     "output_type": "stream",
     "text": [
      "Grad\u001b[31m(\u001b[0ma.Grad\u001b[32m(\u001b[0mb.c\u001b[32m)\u001b[0m\u001b[31m)\u001b[0m\n",
      "a.b.Grad\u001b[31m(\u001b[0mGrad\u001b[32m(\u001b[0mc\u001b[32m)\u001b[0m\u001b[31m)\u001b[0m + a.Grad\u001b[31m(\u001b[0mc\u001b[31m)\u001b[0m.Grad\u001b[31m(\u001b[0mb\u001b[31m)\u001b[0m + b.Grad\u001b[31m(\u001b[0mc\u001b[31m)\u001b[0m.Grad\u001b[31m(\u001b[0ma\u001b[31m)\u001b[0m + a.c.Grad\u001b[31m(\u001b[0mGrad\u001b[32m(\u001b[0mb\u001b[32m)\u001b[0m\u001b[31m)\u001b[0m + a.Grad\u001b[31m(\u001b[0mb\u001b[31m)\u001b[0m.Grad\u001b[31m(\u001b[0mc\u001b[31m)\u001b[0m + c.Grad\u001b[31m(\u001b[0mb\u001b[31m)\u001b[0m.Grad\u001b[31m(\u001b[0ma\u001b[31m)\u001b[0m\n"
     ]
    }
   ],
   "source": [
    "# test different expression and see if the result is as expected\n",
    "#expr = grad(c * (a + b))\n",
    "expr = grad(a * grad(b * c))\n",
    "#expr = dt(a) + K * grad(a)\n",
    "print(expr.as_string())\n",
    "\n",
    "decompose_expr = expr.decompose()\n",
    "print(decompose_expr.as_string())\n",
    "\n",
    "# to print the tree\n",
    "# expr.print()"
   ]
  },
  {
   "cell_type": "code",
   "execution_count": 57,
   "metadata": {},
   "outputs": [],
   "source": [
    "# check for equality\n",
    "def is_equal(a, b):\n",
    "  res = a.decompose() == b.decompose()\n",
    "  e = \"\\033[32mequal to\\033[0m\" if res else \"\\033[31mnot equal to\\033[0m\"\n",
    "  print(f\"{a.as_string()} {e} {b.as_string()}\")\n"
   ]
  },
  {
   "cell_type": "code",
   "execution_count": 58,
   "metadata": {},
   "outputs": [
    {
     "name": "stdout",
     "output_type": "stream",
     "text": [
      "Grad\u001b[31m(\u001b[0ma + b\u001b[31m)\u001b[0m \u001b[32mequal to\u001b[0m Grad\u001b[31m(\u001b[0ma\u001b[31m)\u001b[0m + Grad\u001b[31m(\u001b[0mb\u001b[31m)\u001b[0m\n",
      "Grad\u001b[31m(\u001b[0ma.b\u001b[31m)\u001b[0m \u001b[32mequal to\u001b[0m a.Grad\u001b[31m(\u001b[0mb\u001b[31m)\u001b[0m + b.Grad\u001b[31m(\u001b[0ma\u001b[31m)\u001b[0m\n",
      "Grad\u001b[31m(\u001b[0mK.a + L.b\u001b[31m)\u001b[0m \u001b[32mequal to\u001b[0m K.Grad\u001b[31m(\u001b[0ma\u001b[31m)\u001b[0m + L.Grad\u001b[31m(\u001b[0mb\u001b[31m)\u001b[0m\n",
      "\n",
      "Divergence\u001b[31m(\u001b[0ma + b\u001b[31m)\u001b[0m \u001b[32mequal to\u001b[0m Divergence\u001b[31m(\u001b[0ma\u001b[31m)\u001b[0m + Divergence\u001b[31m(\u001b[0mb\u001b[31m)\u001b[0m\n",
      "Divergence\u001b[31m(\u001b[0mα.a\u001b[31m)\u001b[0m \u001b[32mequal to\u001b[0m α.Divergence\u001b[31m(\u001b[0ma\u001b[31m)\u001b[0m\n",
      "Divergence\u001b[31m(\u001b[0mα.a + β.b\u001b[31m)\u001b[0m \u001b[32mequal to\u001b[0m α.Divergence\u001b[31m(\u001b[0ma\u001b[31m)\u001b[0m + β.Divergence\u001b[31m(\u001b[0mb\u001b[31m)\u001b[0m\n"
     ]
    }
   ],
   "source": [
    "\n",
    "is_equal(grad(a + b), grad(a) + grad(b))\n",
    "is_equal(grad(a * b), a * grad(b) + b * grad(a))\n",
    "is_equal(grad(K * a + L * b), K * grad(a) + L * grad(b))\n",
    "\n",
    "print()\n",
    "\n",
    "is_equal(divergence(a + b) , divergence(a) + divergence(b))\n",
    "is_equal(divergence(Alpha * a) , Alpha * divergence(a))\n",
    "is_equal(divergence(Alpha * a + Beta * b) , Alpha * divergence(a) + Beta * divergence(b))\n",
    "\n"
   ]
  },
  {
   "cell_type": "code",
   "execution_count": 59,
   "metadata": {},
   "outputs": [
    {
     "name": "stdout",
     "output_type": "stream",
     "text": [
      "a \u001b[31mnot equal to\u001b[0m b\n",
      "a.b \u001b[31mnot equal to\u001b[0m 2.a.b\n",
      "a + b \u001b[32mequal to\u001b[0m b + a\n",
      "2.a + 2.b \u001b[32mequal to\u001b[0m 2.b + 2.a\n",
      "a.a + a.b \u001b[32mequal to\u001b[0m a.a + a.b\n",
      "a.a + a.b + b.a + b.b \u001b[31mnot equal to\u001b[0m a.a + 2.a.b + b.b\n",
      "a.a + a.b + b.a + b.b \u001b[32mequal to\u001b[0m a.a + a.b + a.b + b.b\n"
     ]
    }
   ],
   "source": [
    "is_equal(a , b)\n",
    "is_equal(a * b , 2 * a * b)\n",
    "is_equal(a + b , b + a)\n",
    "is_equal(2 * (a + b) , 2 * b + 2 * a)\n",
    "is_equal(a * (a + b) , a * a + a * b)\n",
    "\n",
    "#The possibility of simplifying the expression and then comparing them does not exist\n",
    "is_equal((a + b) * (a + b) , a * a + 2 * a * b + b * b) #this expression is simplified to 2ab\n",
    "is_equal((a + b) * (a + b) , a * a + a * b + a * b + b * b) #this expression is expended Aka ab + ab"
   ]
  },
  {
   "cell_type": "code",
   "execution_count": null,
   "metadata": {},
   "outputs": [],
   "source": []
  }
 ],
 "metadata": {
  "kernelspec": {
   "display_name": "stage",
   "language": "python",
   "name": "python3"
  },
  "language_info": {
   "codemirror_mode": {
    "name": "ipython",
    "version": 3
   },
   "file_extension": ".py",
   "mimetype": "text/x-python",
   "name": "python",
   "nbconvert_exporter": "python",
   "pygments_lexer": "ipython3",
   "version": "3.8.18"
  }
 },
 "nbformat": 4,
 "nbformat_minor": 2
}
