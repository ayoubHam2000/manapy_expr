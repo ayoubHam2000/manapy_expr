{
 "cells": [
  {
   "cell_type": "code",
   "execution_count": 16,
   "metadata": {},
   "outputs": [],
   "source": [
    "from typing import  Match, List\n",
    "import re\n",
    "\n",
    "class CreateEquation:\n",
    "  def __init__(self, query : str, order : int, dimension : int):\n",
    "    self.query = query\n",
    "    self.order = order\n",
    "    self.dimension = dimension\n",
    "  \n",
    "  def compile(self):\n",
    "    pass\n",
    "\n",
    "\n",
    "class CreateSystem():\n",
    "\n",
    "  def __init__(self, path : str, equations : List[CreateEquation]):\n",
    "    self.path = path\n",
    "    self.equations = equations\n",
    "    self.device = \"cpu\"\n",
    "    self.backend = \"python\"\n",
    "    self.target_template = \"./templates/advecdiff.py\"\n",
    "    self.process_token = self.__get_process_token()\n",
    "\n",
    "  def using(self, device : str, backend : str):\n",
    "    self.device = device\n",
    "    self.backend = backend\n",
    "    return self\n",
    "  \n",
    "  def generate(self):\n",
    "    with open(self.target_template) as file:\n",
    "      data = file.read()\n",
    "      pattern = r'\\$\\$\\[(.*?)\\]'\n",
    "      result = re.sub(pattern, self.__replace_with, data)\n",
    "      with open(self.path, \"w\") as out_file:\n",
    "        out_file.write(result)\n",
    "  \n",
    "  ##########################################\n",
    "  ## Replacer\n",
    "  ##########################################\n",
    "  \"\"\"\n",
    "  Replacer\n",
    "  \"\"\"\n",
    "  def __get_process_token(self):\n",
    "    return {\n",
    "      \"backend\" : self.__dimension_replace\n",
    "    }\n",
    "  \n",
    "  def __dimension_replace(self):\n",
    "    return f\"Wow Backend is {self.backend}\"\n",
    "\n",
    "  def __replace_with(self, match : Match[str]):\n",
    "    matched_value = match.group(1)\n",
    "    if matched_value in self.process_token:\n",
    "      return self.process_token[matched_value]()\n",
    "    return \"\"\n",
    "\n",
    "\n",
    "\n",
    "path = \"./out/out_file.py\"\n",
    "q1 = CreateEquation(\"\", order=1, dimension=2)\n",
    "s = CreateSystem(path, [\n",
    "  q1\n",
    "]).using(device=\"cpu\", backend=\"numba\").generate()"
   ]
  },
  {
   "cell_type": "code",
   "execution_count": 13,
   "metadata": {},
   "outputs": [
    {
     "name": "stdout",
     "output_type": "stream",
     "text": [
      "diminetion\n"
     ]
    }
   ],
   "source": []
  }
 ],
 "metadata": {
  "interpreter": {
   "hash": "8ac91bd43491f55368954ce7ab6b53d694035e98f0381769bdc41eea76ea5199"
  },
  "kernelspec": {
   "display_name": "Python 3.8.13 ('pytorch_course')",
   "language": "python",
   "name": "python3"
  },
  "language_info": {
   "codemirror_mode": {
    "name": "ipython",
    "version": 3
   },
   "file_extension": ".py",
   "mimetype": "text/x-python",
   "name": "python",
   "nbconvert_exporter": "python",
   "pygments_lexer": "ipython3",
   "version": "3.8.13"
  },
  "orig_nbformat": 4
 },
 "nbformat": 4,
 "nbformat_minor": 2
}
